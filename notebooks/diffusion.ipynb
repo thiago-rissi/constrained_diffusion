{
 "cells": [
  {
   "cell_type": "code",
   "execution_count": 1,
   "id": "21d13d2e",
   "metadata": {},
   "outputs": [
    {
     "name": "stderr",
     "output_type": "stream",
     "text": [
      "/usr/local/lib/python3.12/site-packages/tqdm/auto.py:21: TqdmWarning: IProgress not found. Please update jupyter and ipywidgets. See https://ipywidgets.readthedocs.io/en/stable/user_install.html\n",
      "  from .autonotebook import tqdm as notebook_tqdm\n"
     ]
    }
   ],
   "source": [
    "import os\n",
    "import sys\n",
    "sys.path.append('/usr/src/code/src')\n",
    "os.chdir('/usr/src/code/')\n",
    "\n",
    "import torch\n",
    "\n",
    "from src.models.UNet import UNet, UNet2DWrapper\n",
    "from src.utils.other_utils import *\n",
    "from src.pdlmc.constraints import classifier_constraint, brightness_constraint\n",
    "from src.utils.samplers import *\n",
    "from src.utils.trainers import *\n",
    "from src.utils.schedulers import *\n",
    "\n",
    "\n",
    "device = torch.device(\"cuda\" if torch.cuda.is_available() else \"cpu\")\n",
    "%matplotlib inline"
   ]
  },
  {
   "cell_type": "code",
   "execution_count": 2,
   "id": "eff5fe84",
   "metadata": {},
   "outputs": [],
   "source": [
    "IMG_SIZE = 28\n",
    "IMG_CH = 1\n",
    "BATCH_SIZE = 128\n",
    "N_CLASSES = 10\n",
    "\n",
    "model = torch.load(\"model.pkl\", weights_only=False)\n",
    "classifier = torch.load(\"mnist_classifier.pkl\", weights_only=False)"
   ]
  },
  {
   "cell_type": "code",
   "execution_count": 6,
   "id": "bf218257",
   "metadata": {},
   "outputs": [
    {
     "name": "stderr",
     "output_type": "stream",
     "text": [
      "\t Sampling images: 100%|██████████| 1/1 [00:01<00:00,  1.68s/it]\n"
     ]
    },
    {
     "data": {
      "image/png": "[encoded data removed]",
      "text/plain": [
       "<Figure size 500x500 with 1 Axes>"
      ]
     },
     "metadata": {},
     "output_type": "display_data"
    }
   ],
   "source": [
    "timesteps = 500\n",
    "eps = 1e-5\n",
    "\n",
    "vesde_sampler = VESDESampler(device=device, img_ch=IMG_CH, img_size=IMG_SIZE)\n",
    "sample_timesteps = torch.linspace(eps, 1.0, timesteps, device=device)\n",
    "img = sample_images(\n",
    "    model=model,\n",
    "    img_ch=IMG_CH,\n",
    "    img_size=IMG_SIZE,\n",
    "    reverse=vesde_sampler.reverse,\n",
    "    timesteps=sample_timesteps,\n",
    "    device=device,\n",
    "    sample_size=1,\n",
    "    plot=True,\n",
    "    save=False,\n",
    ")\n",
    "\n",
    "# Generate 100 images\n",
    "# imgs_vpsde = [vpsde_sampler.sample_images(model=model) for _ in range(100)]\n",
    "# print(f\"Generated {len(imgs_vpsde)} images using VPSDESampler.\")\n",
    "# calculate_class_proportions(imgs_vpsde, classifier, n_classes=N_CLASSES, device=device)\n",
    "\n",
    "# gfuncs = [partial(classifier_constraint, classifier=classifier, target_class=9, epsilon=0.01)]\n",
    "# lmc_steps: int = 1\n",
    "# step_size: float = 1.8\n",
    "# step_size_lambda: float = 0.4\n",
    "\n",
    "# pdlmc_sampler = PDLMCSampler(\n",
    "#     scheduler=scheduler,\n",
    "#     device=device,\n",
    "#     img_ch=IMG_CH,\n",
    "#     img_size=IMG_SIZE,\n",
    "#     ncols=ncols,\n",
    "#     gfuncs=gfuncs,\n",
    "#     lmc_steps=lmc_steps,\n",
    "#     step_size=step_size,\n",
    "#     step_size_lambda=step_size_lambda,\n",
    "# )\n",
    "\n",
    "# imgs_pdlmc = [pdlmc_sampler.sample_images(model=model) for _ in range(100)]\n",
    "# print(f\"Generated {len(imgs_pdlmc)} images using PDLMCSampler.\")\n",
    "# calculate_class_proportions(imgs_pdlmc, classifier, n_classes=N_CLASSES, device=device)\n",
    "# img = torch.clamp(img, 0, 1)\n",
    "# img = img.view(img.size(0), -1)\n",
    "# mean_brightness = img.mean()\n",
    "\n",
    "# print(f\"Mean brightness of the generated image: {mean_brightness.item():.4f}\")"
   ]
  },
  {
   "cell_type": "code",
   "execution_count": 7,
   "id": "74329636",
   "metadata": {},
   "outputs": [
    {
     "name": "stderr",
     "output_type": "stream",
     "text": [
      "\t Sampling images: 100%|██████████| 1/1 [00:02<00:00,  2.95s/it]\n"
     ]
    },
    {
     "data": {
      "image/png": "[encoded data removed]",
      "text/plain": [
       "<Figure size 500x500 with 1 Axes>"
      ]
     },
     "metadata": {},
     "output_type": "display_data"
    }
   ],
   "source": [
    "gfuncs = [\n",
    "    partial(classifier_constraint, classifier=classifier, target_class=9, epsilon=0.01)\n",
    "]\n",
    "lmc_steps: int = 1\n",
    "step_size: float = 1.8\n",
    "step_size_lambda: float = 0.4\n",
    "\n",
    "pdlmc_sampler = PDLMCVESampler(\n",
    "    device=device,\n",
    "    img_ch=IMG_CH,\n",
    "    img_size=IMG_SIZE,\n",
    "    gfuncs=gfuncs,\n",
    "    lmc_steps=lmc_steps,\n",
    "    step_size=step_size,\n",
    "    step_size_lambda=step_size_lambda,\n",
    ")\n",
    "\n",
    "sample_timesteps = torch.linspace(eps, 1.0, timesteps, device=device)\n",
    "img = sample_images(\n",
    "    model=model,\n",
    "    img_ch=IMG_CH,\n",
    "    img_size=IMG_SIZE,\n",
    "    reverse=pdlmc_sampler.reverse,\n",
    "    timesteps=sample_timesteps,\n",
    "    device=device,\n",
    "    sample_size=1,\n",
    "    plot=True,\n",
    "    save=False,\n",
    ")\n",
    "# img = torch.clamp(img, 0, 1)\n",
    "# img = img.view(img.size(0), -1)\n",
    "# mean_brightness = img.mean()\n",
    "\n",
    "# print(f\"Mean brightness of the generated image: {mean_brightness.item():.4f}\")"
   ]
  }
 ],
 "metadata": {
  "kernelspec": {
   "display_name": "Python 3",
   "language": "python",
   "name": "python3"
  },
  "language_info": {
   "codemirror_mode": {
    "name": "ipython",
    "version": 3
   },
   "file_extension": ".py",
   "mimetype": "text/x-python",
   "name": "python",
   "nbconvert_exporter": "python",
   "pygments_lexer": "ipython3",
   "version": "3.12.11"
  }
 },
 "nbformat": 4,
 "nbformat_minor": 5
}
