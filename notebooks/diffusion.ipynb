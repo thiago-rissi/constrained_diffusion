{
 "cells": [
  {
   "cell_type": "code",
   "execution_count": 1,
   "id": "21d13d2e",
   "metadata": {},
   "outputs": [
    {
     "name": "stderr",
     "output_type": "stream",
     "text": [
      "/usr/local/lib/python3.12/site-packages/tqdm/auto.py:21: TqdmWarning: IProgress not found. Please update jupyter and ipywidgets. See https://ipywidgets.readthedocs.io/en/stable/user_install.html\n",
      "  from .autonotebook import tqdm as notebook_tqdm\n"
     ]
    }
   ],
   "source": [
    "import os\n",
    "import sys\n",
    "sys.path.append('/usr/src/code/src')\n",
    "os.chdir('/usr/src/code/')\n",
    "\n",
    "import torch\n",
    "\n",
    "from src.models.UNet import UNet, UNet2DWrapper, UNet_res, UNet_Tranformer\n",
    "from src.utils.other_utils import *\n",
    "from src.pdlmc.constraints import classifier_constraint, brightness_constraint, center_constraint\n",
    "from src.utils.samplers import *\n",
    "from src.utils.trainers import *\n",
    "from src.utils.schedulers import *\n",
    "\n",
    "\n",
    "device = torch.device(\"cuda\" if torch.cuda.is_available() else \"cpu\")\n",
    "%matplotlib inline"
   ]
  },
  {
   "cell_type": "code",
   "execution_count": 2,
   "id": "eff5fe84",
   "metadata": {},
   "outputs": [],
   "source": [
    "IMG_SIZE = 28\n",
    "IMG_CH = 1\n",
    "BATCH_SIZE = 128\n",
    "N_CLASSES = 10\n",
    "timesteps = 250\n",
    "sigma = 25.0\n",
    "eps = 1e-3\n",
    "\n",
    "model = UNet_Tranformer(partial(marginal_prob_std, sigma=sigma, device=device))\n",
    "model.load_state_dict(torch.load(\"unet_transformer.pth\"))\n",
    "model = model.to(device)\n",
    "classifier = torch.load(\"mnist_classifier.pkl\", weights_only=False)"
   ]
  },
  {
   "cell_type": "markdown",
   "id": "00075ba0",
   "metadata": {},
   "source": [
    "# Classifier"
   ]
  },
  {
   "cell_type": "code",
   "execution_count": 17,
   "id": "bf218257",
   "metadata": {},
   "outputs": [
    {
     "name": "stderr",
     "output_type": "stream",
     "text": [
      "\t Sampling images: 100%|██████████| 1/1 [00:01<00:00,  1.23s/it]\n"
     ]
    },
    {
     "data": {
      "image/png": "[encoded data removed]",
      "text/plain": [
       "<Figure size 400x400 with 1 Axes>"
      ]
     },
     "metadata": {},
     "output_type": "display_data"
    }
   ],
   "source": [
    "timesteps = 400\n",
    "eps = 1e-3\n",
    "\n",
    "vesde_sampler = VESDESampler(device=device, img_ch=IMG_CH, img_size=IMG_SIZE)\n",
    "sample_timesteps = torch.linspace(eps, 1.0, timesteps, device=device)\n",
    "img = sample_images(\n",
    "    model=model,\n",
    "    sampler=vesde_sampler,\n",
    "    timesteps=sample_timesteps,\n",
    "    device=device,\n",
    "    sample_size=1,\n",
    "    plot=True,\n",
    "    save=False,\n",
    ")"
   ]
  },
  {
   "cell_type": "code",
   "execution_count": 18,
   "id": "74329636",
   "metadata": {},
   "outputs": [
    {
     "name": "stderr",
     "output_type": "stream",
     "text": [
      "\t Sampling images:   0%|          | 0/1 [00:00<?, ?it/s]\n"
     ]
    },
    {
     "ename": "IndexError",
     "evalue": "too many indices for tensor of dimension 0",
     "output_type": "error",
     "traceback": [
      "\u001b[31m---------------------------------------------------------------------------\u001b[39m",
      "\u001b[31mIndexError\u001b[39m                                Traceback (most recent call last)",
      "\u001b[36mCell\u001b[39m\u001b[36m \u001b[39m\u001b[32mIn[18]\u001b[39m\u001b[32m, line 22\u001b[39m\n\u001b[32m     11\u001b[39m pdlmc_sampler = PDLMCVESampler(\n\u001b[32m     12\u001b[39m     device=device,\n\u001b[32m     13\u001b[39m     img_ch=IMG_CH,\n\u001b[32m   (...)\u001b[39m\u001b[32m     18\u001b[39m     step_size_lambda=step_size_lambda,\n\u001b[32m     19\u001b[39m )\n\u001b[32m     21\u001b[39m sample_timesteps = torch.linspace(eps, \u001b[32m1.0\u001b[39m, timesteps, device=device)\n\u001b[32m---> \u001b[39m\u001b[32m22\u001b[39m img = \u001b[43msample_images\u001b[49m\u001b[43m(\u001b[49m\n\u001b[32m     23\u001b[39m \u001b[43m    \u001b[49m\u001b[43mmodel\u001b[49m\u001b[43m=\u001b[49m\u001b[43mmodel\u001b[49m\u001b[43m,\u001b[49m\n\u001b[32m     24\u001b[39m \u001b[43m    \u001b[49m\u001b[43msampler\u001b[49m\u001b[43m=\u001b[49m\u001b[43m \u001b[49m\u001b[43mpdlmc_sampler\u001b[49m\u001b[43m,\u001b[49m\n\u001b[32m     25\u001b[39m \u001b[43m    \u001b[49m\u001b[43mtimesteps\u001b[49m\u001b[43m=\u001b[49m\u001b[43msample_timesteps\u001b[49m\u001b[43m,\u001b[49m\n\u001b[32m     26\u001b[39m \u001b[43m    \u001b[49m\u001b[43mdevice\u001b[49m\u001b[43m=\u001b[49m\u001b[43mdevice\u001b[49m\u001b[43m,\u001b[49m\n\u001b[32m     27\u001b[39m \u001b[43m    \u001b[49m\u001b[43msample_size\u001b[49m\u001b[43m=\u001b[49m\u001b[32;43m1\u001b[39;49m\u001b[43m,\u001b[49m\n\u001b[32m     28\u001b[39m \u001b[43m    \u001b[49m\u001b[43mplot\u001b[49m\u001b[43m=\u001b[49m\u001b[38;5;28;43;01mTrue\u001b[39;49;00m\u001b[43m,\u001b[49m\n\u001b[32m     29\u001b[39m \u001b[43m    \u001b[49m\u001b[43msave\u001b[49m\u001b[43m=\u001b[49m\u001b[38;5;28;43;01mFalse\u001b[39;49;00m\u001b[43m,\u001b[49m\n\u001b[32m     30\u001b[39m \u001b[43m    \u001b[49m\u001b[43mupdate_steps\u001b[49m\u001b[43m \u001b[49m\u001b[43m=\u001b[49m\u001b[43m \u001b[49m\u001b[43mupdate_steps\u001b[49m\u001b[43m,\u001b[49m\n\u001b[32m     31\u001b[39m \u001b[43m)\u001b[49m\n",
      "\u001b[36mFile \u001b[39m\u001b[32m/usr/src/code/src/utils/other_utils.py:56\u001b[39m, in \u001b[36msample_images\u001b[39m\u001b[34m(model, sampler, timesteps, device, sample_size, plot, save, save_path, **kwargs)\u001b[39m\n\u001b[32m     52\u001b[39m     x_t = torch.randn(\n\u001b[32m     53\u001b[39m         (\u001b[32m1\u001b[39m, sampler.img_ch, sampler.img_size, sampler.img_size), device=device\n\u001b[32m     54\u001b[39m     )\n\u001b[32m     55\u001b[39m     y = torch.randint(\u001b[32m0\u001b[39m, \u001b[32m10\u001b[39m, (\u001b[32m1\u001b[39m,), device=x_t.device)\n\u001b[32m---> \u001b[39m\u001b[32m56\u001b[39m     imgs.append(\u001b[43msampler\u001b[49m\u001b[43m.\u001b[49m\u001b[43msample\u001b[49m\u001b[43m(\u001b[49m\u001b[43mx_t\u001b[49m\u001b[43m,\u001b[49m\u001b[43m \u001b[49m\u001b[43mmodel\u001b[49m\u001b[43m,\u001b[49m\u001b[43m \u001b[49m\u001b[43mtimesteps\u001b[49m\u001b[43m,\u001b[49m\u001b[43m \u001b[49m\u001b[43my\u001b[49m\u001b[43m,\u001b[49m\u001b[43m \u001b[49m\u001b[43m*\u001b[49m\u001b[43m*\u001b[49m\u001b[43mkwargs\u001b[49m\u001b[43m)\u001b[49m)\n\u001b[32m     58\u001b[39m \u001b[38;5;28;01mif\u001b[39;00m plot:\n\u001b[32m     59\u001b[39m     plt.figure(figsize=(\u001b[32m4\u001b[39m * sample_size, \u001b[32m4\u001b[39m))\n",
      "\u001b[36mFile \u001b[39m\u001b[32m/usr/local/lib/python3.12/site-packages/torch/utils/_contextlib.py:116\u001b[39m, in \u001b[36mcontext_decorator.<locals>.decorate_context\u001b[39m\u001b[34m(*args, **kwargs)\u001b[39m\n\u001b[32m    113\u001b[39m \u001b[38;5;129m@functools\u001b[39m.wraps(func)\n\u001b[32m    114\u001b[39m \u001b[38;5;28;01mdef\u001b[39;00m\u001b[38;5;250m \u001b[39m\u001b[34mdecorate_context\u001b[39m(*args, **kwargs):\n\u001b[32m    115\u001b[39m     \u001b[38;5;28;01mwith\u001b[39;00m ctx_factory():\n\u001b[32m--> \u001b[39m\u001b[32m116\u001b[39m         \u001b[38;5;28;01mreturn\u001b[39;00m \u001b[43mfunc\u001b[49m\u001b[43m(\u001b[49m\u001b[43m*\u001b[49m\u001b[43margs\u001b[49m\u001b[43m,\u001b[49m\u001b[43m \u001b[49m\u001b[43m*\u001b[49m\u001b[43m*\u001b[49m\u001b[43mkwargs\u001b[49m\u001b[43m)\u001b[49m\n",
      "\u001b[36mFile \u001b[39m\u001b[32m/usr/src/code/src/utils/samplers.py:224\u001b[39m, in \u001b[36mPDLMCVESampler.sample\u001b[39m\u001b[34m(self, x_t, model, timesteps, y, **kwargs)\u001b[39m\n\u001b[32m    222\u001b[39m dt = timesteps[\u001b[32m1\u001b[39m] - timesteps[\u001b[32m0\u001b[39m]\n\u001b[32m    223\u001b[39m sigma_T = \u001b[38;5;28mself\u001b[39m.marginal_prob_std(timesteps[-\u001b[32m1\u001b[39m])\n\u001b[32m--> \u001b[39m\u001b[32m224\u001b[39m x_t = x_t * \u001b[43msigma_T\u001b[49m\u001b[43m[\u001b[49m\u001b[43m:\u001b[49m\u001b[43m,\u001b[49m\u001b[43m \u001b[49m\u001b[38;5;28;43;01mNone\u001b[39;49;00m\u001b[43m,\u001b[49m\u001b[43m \u001b[49m\u001b[38;5;28;43;01mNone\u001b[39;49;00m\u001b[43m,\u001b[49m\u001b[43m \u001b[49m\u001b[38;5;28;43;01mNone\u001b[39;49;00m\u001b[43m]\u001b[49m\n\u001b[32m    225\u001b[39m num_steps = \u001b[38;5;28mlen\u001b[39m(timesteps)\n\u001b[32m    227\u001b[39m \u001b[38;5;28;01mfor\u001b[39;00m step, t \u001b[38;5;129;01min\u001b[39;00m \u001b[38;5;28menumerate\u001b[39m(\u001b[38;5;28mreversed\u001b[39m(timesteps)):\n",
      "\u001b[31mIndexError\u001b[39m: too many indices for tensor of dimension 0"
     ]
    }
   ],
   "source": [
    "gfuncs = [\n",
    "    partial(classifier_constraint, classifier=classifier, target_class=9, epsilon=0.01)\n",
    "]\n",
    "\n",
    "lmc_steps: int = 1\n",
    "update_steps: int = 3\n",
    "step_size: float = 2\n",
    "step_size_lambda: float = 0.2\n",
    "timesteps = 400\n",
    "\n",
    "pdlmc_sampler = PDLMCVESampler(\n",
    "    device=device,\n",
    "    img_ch=IMG_CH,\n",
    "    img_size=IMG_SIZE,\n",
    "    gfuncs=gfuncs,\n",
    "    lmc_steps=lmc_steps,\n",
    "    step_size=step_size,\n",
    "    step_size_lambda=step_size_lambda,\n",
    ")\n",
    "\n",
    "sample_timesteps = torch.linspace(eps, 1.0, timesteps, device=device)\n",
    "img = sample_images(\n",
    "    model=model,\n",
    "    sampler= pdlmc_sampler,\n",
    "    timesteps=sample_timesteps,\n",
    "    device=device,\n",
    "    sample_size=1,\n",
    "    plot=True,\n",
    "    save=False,\n",
    "    update_steps = update_steps,\n",
    ")"
   ]
  },
  {
   "cell_type": "code",
   "execution_count": null,
   "id": "719bdbdf",
   "metadata": {},
   "outputs": [
    {
     "name": "stderr",
     "output_type": "stream",
     "text": [
      "\t Sampling images:   1%|          | 1/100 [00:01<02:25,  1.47s/it]\n"
     ]
    },
    {
     "ename": "KeyboardInterrupt",
     "evalue": "",
     "output_type": "error",
     "traceback": [
      "\u001b[31m---------------------------------------------------------------------------\u001b[39m",
      "\u001b[31mKeyboardInterrupt\u001b[39m                         Traceback (most recent call last)",
      "\u001b[36mCell\u001b[39m\u001b[36m \u001b[39m\u001b[32mIn[58]\u001b[39m\u001b[32m, line 8\u001b[39m\n\u001b[32m      5\u001b[39m vesde_sampler = VESDESampler(device=device, img_ch=IMG_CH, img_size=IMG_SIZE)\n\u001b[32m      6\u001b[39m sample_timesteps = torch.linspace(eps, \u001b[32m1.0\u001b[39m, timesteps, device=device)\n\u001b[32m----> \u001b[39m\u001b[32m8\u001b[39m imgs_vesde = \u001b[43msample_images\u001b[49m\u001b[43m(\u001b[49m\n\u001b[32m      9\u001b[39m \u001b[43m    \u001b[49m\u001b[43mmodel\u001b[49m\u001b[43m=\u001b[49m\u001b[43mmodel\u001b[49m\u001b[43m,\u001b[49m\n\u001b[32m     10\u001b[39m \u001b[43m    \u001b[49m\u001b[43mimg_ch\u001b[49m\u001b[43m=\u001b[49m\u001b[43mIMG_CH\u001b[49m\u001b[43m,\u001b[49m\n\u001b[32m     11\u001b[39m \u001b[43m    \u001b[49m\u001b[43mimg_size\u001b[49m\u001b[43m=\u001b[49m\u001b[43mIMG_SIZE\u001b[49m\u001b[43m,\u001b[49m\n\u001b[32m     12\u001b[39m \u001b[43m    \u001b[49m\u001b[43mreverse\u001b[49m\u001b[43m=\u001b[49m\u001b[43mvesde_sampler\u001b[49m\u001b[43m.\u001b[49m\u001b[43mreverse\u001b[49m\u001b[43m,\u001b[49m\n\u001b[32m     13\u001b[39m \u001b[43m    \u001b[49m\u001b[43mtimesteps\u001b[49m\u001b[43m=\u001b[49m\u001b[43msample_timesteps\u001b[49m\u001b[43m,\u001b[49m\n\u001b[32m     14\u001b[39m \u001b[43m    \u001b[49m\u001b[43mdevice\u001b[49m\u001b[43m=\u001b[49m\u001b[43mdevice\u001b[49m\u001b[43m,\u001b[49m\n\u001b[32m     15\u001b[39m \u001b[43m    \u001b[49m\u001b[43msample_size\u001b[49m\u001b[43m=\u001b[49m\u001b[32;43m100\u001b[39;49m\u001b[43m,\u001b[49m\n\u001b[32m     16\u001b[39m \u001b[43m    \u001b[49m\u001b[43mplot\u001b[49m\u001b[43m=\u001b[49m\u001b[38;5;28;43;01mFalse\u001b[39;49;00m\u001b[43m,\u001b[49m\n\u001b[32m     17\u001b[39m \u001b[43m    \u001b[49m\u001b[43msave\u001b[49m\u001b[43m=\u001b[49m\u001b[38;5;28;43;01mFalse\u001b[39;49;00m\u001b[43m,\u001b[49m\n\u001b[32m     18\u001b[39m \u001b[43m)\u001b[49m\n\u001b[32m     20\u001b[39m \u001b[38;5;28mprint\u001b[39m(\u001b[33mf\u001b[39m\u001b[33m\"\u001b[39m\u001b[33mGenerated \u001b[39m\u001b[38;5;132;01m{\u001b[39;00m\u001b[38;5;28mlen\u001b[39m(imgs_vesde)\u001b[38;5;132;01m}\u001b[39;00m\u001b[33m images using VESDESampler.\u001b[39m\u001b[33m\"\u001b[39m)\n\u001b[32m     21\u001b[39m calculate_class_proportions(imgs_vesde, classifier, n_classes=N_CLASSES, device=device)\n",
      "\u001b[36mFile \u001b[39m\u001b[32m/usr/src/code/src/utils/other_utils.py:54\u001b[39m, in \u001b[36msample_images\u001b[39m\u001b[34m(model, reverse, timesteps, img_ch, img_size, device, sample_size, plot, save, save_path, *model_args)\u001b[39m\n\u001b[32m     52\u001b[39m \u001b[38;5;28;01mfor\u001b[39;00m _ \u001b[38;5;129;01min\u001b[39;00m tqdm(\u001b[38;5;28mrange\u001b[39m(sample_size), desc=\u001b[33m\"\u001b[39m\u001b[38;5;130;01m\\t\u001b[39;00m\u001b[33m Sampling images\u001b[39m\u001b[33m\"\u001b[39m):\n\u001b[32m     53\u001b[39m     x_t = torch.randn((\u001b[32m1\u001b[39m, img_ch, img_size, img_size), device=device)\n\u001b[32m---> \u001b[39m\u001b[32m54\u001b[39m     imgs.append(\u001b[43msample_image\u001b[49m\u001b[43m(\u001b[49m\u001b[43mmodel\u001b[49m\u001b[43m,\u001b[49m\u001b[43m \u001b[49m\u001b[43mx_t\u001b[49m\u001b[43m,\u001b[49m\u001b[43m \u001b[49m\u001b[43mreverse\u001b[49m\u001b[43m,\u001b[49m\u001b[43m \u001b[49m\u001b[43mtimesteps\u001b[49m\u001b[43m,\u001b[49m\u001b[43m \u001b[49m\u001b[43mdevice\u001b[49m\u001b[43m,\u001b[49m\u001b[43m \u001b[49m\u001b[43m*\u001b[49m\u001b[43mmodel_args\u001b[49m\u001b[43m)\u001b[49m)\n\u001b[32m     56\u001b[39m \u001b[38;5;28;01mif\u001b[39;00m plot:\n\u001b[32m     57\u001b[39m     fig, axs = plt.subplots(\u001b[32m1\u001b[39m, sample_size)\n",
      "\u001b[36mFile \u001b[39m\u001b[32m/usr/local/lib/python3.12/site-packages/torch/utils/_contextlib.py:116\u001b[39m, in \u001b[36mcontext_decorator.<locals>.decorate_context\u001b[39m\u001b[34m(*args, **kwargs)\u001b[39m\n\u001b[32m    113\u001b[39m \u001b[38;5;129m@functools\u001b[39m.wraps(func)\n\u001b[32m    114\u001b[39m \u001b[38;5;28;01mdef\u001b[39;00m\u001b[38;5;250m \u001b[39m\u001b[34mdecorate_context\u001b[39m(*args, **kwargs):\n\u001b[32m    115\u001b[39m     \u001b[38;5;28;01mwith\u001b[39;00m ctx_factory():\n\u001b[32m--> \u001b[39m\u001b[32m116\u001b[39m         \u001b[38;5;28;01mreturn\u001b[39;00m \u001b[43mfunc\u001b[49m\u001b[43m(\u001b[49m\u001b[43m*\u001b[49m\u001b[43margs\u001b[49m\u001b[43m,\u001b[49m\u001b[43m \u001b[49m\u001b[43m*\u001b[49m\u001b[43m*\u001b[49m\u001b[43mkwargs\u001b[49m\u001b[43m)\u001b[49m\n",
      "\u001b[36mFile \u001b[39m\u001b[32m/usr/src/code/src/utils/other_utils.py:26\u001b[39m, in \u001b[36msample_image\u001b[39m\u001b[34m(model, x_t, reverse, timesteps, *model_args)\u001b[39m\n\u001b[32m     24\u001b[39m     t = torch.full((\u001b[32m1\u001b[39m,), t.item(), device=x_t.device)\n\u001b[32m     25\u001b[39m     y = torch.randint(\u001b[32m0\u001b[39m, \u001b[32m10\u001b[39m, (\u001b[32m1\u001b[39m,), device=x_t.device)\n\u001b[32m---> \u001b[39m\u001b[32m26\u001b[39m     pred_t = \u001b[43mmodel\u001b[49m\u001b[43m(\u001b[49m\u001b[43mx_t\u001b[49m\u001b[43m,\u001b[49m\u001b[43m \u001b[49m\u001b[43mt\u001b[49m\u001b[43m,\u001b[49m\u001b[43m \u001b[49m\u001b[43my\u001b[49m\u001b[43m)\u001b[49m\n\u001b[32m     27\u001b[39m     x_t = reverse(x_t, t, dt, pred_t)\n\u001b[32m     29\u001b[39m t = timesteps[\u001b[32m0\u001b[39m]\n",
      "\u001b[36mFile \u001b[39m\u001b[32m/usr/local/lib/python3.12/site-packages/torch/nn/modules/module.py:1751\u001b[39m, in \u001b[36mModule._wrapped_call_impl\u001b[39m\u001b[34m(self, *args, **kwargs)\u001b[39m\n\u001b[32m   1749\u001b[39m     \u001b[38;5;28;01mreturn\u001b[39;00m \u001b[38;5;28mself\u001b[39m._compiled_call_impl(*args, **kwargs)  \u001b[38;5;66;03m# type: ignore[misc]\u001b[39;00m\n\u001b[32m   1750\u001b[39m \u001b[38;5;28;01melse\u001b[39;00m:\n\u001b[32m-> \u001b[39m\u001b[32m1751\u001b[39m     \u001b[38;5;28;01mreturn\u001b[39;00m \u001b[38;5;28;43mself\u001b[39;49m\u001b[43m.\u001b[49m\u001b[43m_call_impl\u001b[49m\u001b[43m(\u001b[49m\u001b[43m*\u001b[49m\u001b[43margs\u001b[49m\u001b[43m,\u001b[49m\u001b[43m \u001b[49m\u001b[43m*\u001b[49m\u001b[43m*\u001b[49m\u001b[43mkwargs\u001b[49m\u001b[43m)\u001b[49m\n",
      "\u001b[36mFile \u001b[39m\u001b[32m/usr/local/lib/python3.12/site-packages/torch/nn/modules/module.py:1762\u001b[39m, in \u001b[36mModule._call_impl\u001b[39m\u001b[34m(self, *args, **kwargs)\u001b[39m\n\u001b[32m   1757\u001b[39m \u001b[38;5;66;03m# If we don't have any hooks, we want to skip the rest of the logic in\u001b[39;00m\n\u001b[32m   1758\u001b[39m \u001b[38;5;66;03m# this function, and just call forward.\u001b[39;00m\n\u001b[32m   1759\u001b[39m \u001b[38;5;28;01mif\u001b[39;00m \u001b[38;5;129;01mnot\u001b[39;00m (\u001b[38;5;28mself\u001b[39m._backward_hooks \u001b[38;5;129;01mor\u001b[39;00m \u001b[38;5;28mself\u001b[39m._backward_pre_hooks \u001b[38;5;129;01mor\u001b[39;00m \u001b[38;5;28mself\u001b[39m._forward_hooks \u001b[38;5;129;01mor\u001b[39;00m \u001b[38;5;28mself\u001b[39m._forward_pre_hooks\n\u001b[32m   1760\u001b[39m         \u001b[38;5;129;01mor\u001b[39;00m _global_backward_pre_hooks \u001b[38;5;129;01mor\u001b[39;00m _global_backward_hooks\n\u001b[32m   1761\u001b[39m         \u001b[38;5;129;01mor\u001b[39;00m _global_forward_hooks \u001b[38;5;129;01mor\u001b[39;00m _global_forward_pre_hooks):\n\u001b[32m-> \u001b[39m\u001b[32m1762\u001b[39m     \u001b[38;5;28;01mreturn\u001b[39;00m \u001b[43mforward_call\u001b[49m\u001b[43m(\u001b[49m\u001b[43m*\u001b[49m\u001b[43margs\u001b[49m\u001b[43m,\u001b[49m\u001b[43m \u001b[49m\u001b[43m*\u001b[49m\u001b[43m*\u001b[49m\u001b[43mkwargs\u001b[49m\u001b[43m)\u001b[49m\n\u001b[32m   1764\u001b[39m result = \u001b[38;5;28;01mNone\u001b[39;00m\n\u001b[32m   1765\u001b[39m called_always_called_hooks = \u001b[38;5;28mset\u001b[39m()\n",
      "\u001b[36mFile \u001b[39m\u001b[32m/usr/src/code/src/models/UNet.py:498\u001b[39m, in \u001b[36mUNet_res.forward\u001b[39m\u001b[34m(self, x, t, y)\u001b[39m\n\u001b[32m    495\u001b[39m h1 = \u001b[38;5;28mself\u001b[39m.conv1(x) + \u001b[38;5;28mself\u001b[39m.dense1(embed)\n\u001b[32m    496\u001b[39m \u001b[38;5;66;03m## Incorporate information from t\u001b[39;00m\n\u001b[32m    497\u001b[39m \u001b[38;5;66;03m## Group normalization\u001b[39;00m\n\u001b[32m--> \u001b[39m\u001b[32m498\u001b[39m h1 = \u001b[38;5;28mself\u001b[39m.act(\u001b[38;5;28;43mself\u001b[39;49m\u001b[43m.\u001b[49m\u001b[43mgnorm1\u001b[49m\u001b[43m(\u001b[49m\u001b[43mh1\u001b[49m\u001b[43m)\u001b[49m)\n\u001b[32m    499\u001b[39m h2 = \u001b[38;5;28mself\u001b[39m.conv2(h1) + \u001b[38;5;28mself\u001b[39m.dense2(embed)\n\u001b[32m    500\u001b[39m h2 = \u001b[38;5;28mself\u001b[39m.act(\u001b[38;5;28mself\u001b[39m.gnorm2(h2))\n",
      "\u001b[36mFile \u001b[39m\u001b[32m/usr/local/lib/python3.12/site-packages/torch/nn/modules/module.py:1751\u001b[39m, in \u001b[36mModule._wrapped_call_impl\u001b[39m\u001b[34m(self, *args, **kwargs)\u001b[39m\n\u001b[32m   1749\u001b[39m     \u001b[38;5;28;01mreturn\u001b[39;00m \u001b[38;5;28mself\u001b[39m._compiled_call_impl(*args, **kwargs)  \u001b[38;5;66;03m# type: ignore[misc]\u001b[39;00m\n\u001b[32m   1750\u001b[39m \u001b[38;5;28;01melse\u001b[39;00m:\n\u001b[32m-> \u001b[39m\u001b[32m1751\u001b[39m     \u001b[38;5;28;01mreturn\u001b[39;00m \u001b[38;5;28;43mself\u001b[39;49m\u001b[43m.\u001b[49m\u001b[43m_call_impl\u001b[49m\u001b[43m(\u001b[49m\u001b[43m*\u001b[49m\u001b[43margs\u001b[49m\u001b[43m,\u001b[49m\u001b[43m \u001b[49m\u001b[43m*\u001b[49m\u001b[43m*\u001b[49m\u001b[43mkwargs\u001b[49m\u001b[43m)\u001b[49m\n",
      "\u001b[36mFile \u001b[39m\u001b[32m/usr/local/lib/python3.12/site-packages/torch/nn/modules/module.py:1762\u001b[39m, in \u001b[36mModule._call_impl\u001b[39m\u001b[34m(self, *args, **kwargs)\u001b[39m\n\u001b[32m   1757\u001b[39m \u001b[38;5;66;03m# If we don't have any hooks, we want to skip the rest of the logic in\u001b[39;00m\n\u001b[32m   1758\u001b[39m \u001b[38;5;66;03m# this function, and just call forward.\u001b[39;00m\n\u001b[32m   1759\u001b[39m \u001b[38;5;28;01mif\u001b[39;00m \u001b[38;5;129;01mnot\u001b[39;00m (\u001b[38;5;28mself\u001b[39m._backward_hooks \u001b[38;5;129;01mor\u001b[39;00m \u001b[38;5;28mself\u001b[39m._backward_pre_hooks \u001b[38;5;129;01mor\u001b[39;00m \u001b[38;5;28mself\u001b[39m._forward_hooks \u001b[38;5;129;01mor\u001b[39;00m \u001b[38;5;28mself\u001b[39m._forward_pre_hooks\n\u001b[32m   1760\u001b[39m         \u001b[38;5;129;01mor\u001b[39;00m _global_backward_pre_hooks \u001b[38;5;129;01mor\u001b[39;00m _global_backward_hooks\n\u001b[32m   1761\u001b[39m         \u001b[38;5;129;01mor\u001b[39;00m _global_forward_hooks \u001b[38;5;129;01mor\u001b[39;00m _global_forward_pre_hooks):\n\u001b[32m-> \u001b[39m\u001b[32m1762\u001b[39m     \u001b[38;5;28;01mreturn\u001b[39;00m \u001b[43mforward_call\u001b[49m\u001b[43m(\u001b[49m\u001b[43m*\u001b[49m\u001b[43margs\u001b[49m\u001b[43m,\u001b[49m\u001b[43m \u001b[49m\u001b[43m*\u001b[49m\u001b[43m*\u001b[49m\u001b[43mkwargs\u001b[49m\u001b[43m)\u001b[49m\n\u001b[32m   1764\u001b[39m result = \u001b[38;5;28;01mNone\u001b[39;00m\n\u001b[32m   1765\u001b[39m called_always_called_hooks = \u001b[38;5;28mset\u001b[39m()\n",
      "\u001b[36mFile \u001b[39m\u001b[32m/usr/local/lib/python3.12/site-packages/torch/nn/modules/normalization.py:313\u001b[39m, in \u001b[36mGroupNorm.forward\u001b[39m\u001b[34m(self, input)\u001b[39m\n\u001b[32m    312\u001b[39m \u001b[38;5;28;01mdef\u001b[39;00m\u001b[38;5;250m \u001b[39m\u001b[34mforward\u001b[39m(\u001b[38;5;28mself\u001b[39m, \u001b[38;5;28minput\u001b[39m: Tensor) -> Tensor:\n\u001b[32m--> \u001b[39m\u001b[32m313\u001b[39m     \u001b[38;5;28;01mreturn\u001b[39;00m \u001b[43mF\u001b[49m\u001b[43m.\u001b[49m\u001b[43mgroup_norm\u001b[49m\u001b[43m(\u001b[49m\u001b[38;5;28;43minput\u001b[39;49m\u001b[43m,\u001b[49m\u001b[43m \u001b[49m\u001b[38;5;28;43mself\u001b[39;49m\u001b[43m.\u001b[49m\u001b[43mnum_groups\u001b[49m\u001b[43m,\u001b[49m\u001b[43m \u001b[49m\u001b[38;5;28;43mself\u001b[39;49m\u001b[43m.\u001b[49m\u001b[43mweight\u001b[49m\u001b[43m,\u001b[49m\u001b[43m \u001b[49m\u001b[38;5;28;43mself\u001b[39;49m\u001b[43m.\u001b[49m\u001b[43mbias\u001b[49m\u001b[43m,\u001b[49m\u001b[43m \u001b[49m\u001b[38;5;28;43mself\u001b[39;49m\u001b[43m.\u001b[49m\u001b[43meps\u001b[49m\u001b[43m)\u001b[49m\n",
      "\u001b[36mFile \u001b[39m\u001b[32m/usr/local/lib/python3.12/site-packages/torch/nn/functional.py:2965\u001b[39m, in \u001b[36mgroup_norm\u001b[39m\u001b[34m(input, num_groups, weight, bias, eps)\u001b[39m\n\u001b[32m   2958\u001b[39m     \u001b[38;5;28;01mraise\u001b[39;00m \u001b[38;5;167;01mRuntimeError\u001b[39;00m(\n\u001b[32m   2959\u001b[39m         \u001b[33mf\u001b[39m\u001b[33m\"\u001b[39m\u001b[33mExpected at least 2 dimensions for input tensor but received \u001b[39m\u001b[38;5;132;01m{\u001b[39;00m\u001b[38;5;28minput\u001b[39m.dim()\u001b[38;5;132;01m}\u001b[39;00m\u001b[33m\"\u001b[39m\n\u001b[32m   2960\u001b[39m     )\n\u001b[32m   2961\u001b[39m _verify_batch_size(\n\u001b[32m   2962\u001b[39m     [\u001b[38;5;28minput\u001b[39m.size(\u001b[32m0\u001b[39m) * \u001b[38;5;28minput\u001b[39m.size(\u001b[32m1\u001b[39m) // num_groups, num_groups]\n\u001b[32m   2963\u001b[39m     + \u001b[38;5;28mlist\u001b[39m(\u001b[38;5;28minput\u001b[39m.size()[\u001b[32m2\u001b[39m:])\n\u001b[32m   2964\u001b[39m )\n\u001b[32m-> \u001b[39m\u001b[32m2965\u001b[39m \u001b[38;5;28;01mreturn\u001b[39;00m \u001b[43mtorch\u001b[49m\u001b[43m.\u001b[49m\u001b[43mgroup_norm\u001b[49m\u001b[43m(\u001b[49m\n\u001b[32m   2966\u001b[39m \u001b[43m    \u001b[49m\u001b[38;5;28;43minput\u001b[39;49m\u001b[43m,\u001b[49m\u001b[43m \u001b[49m\u001b[43mnum_groups\u001b[49m\u001b[43m,\u001b[49m\u001b[43m \u001b[49m\u001b[43mweight\u001b[49m\u001b[43m,\u001b[49m\u001b[43m \u001b[49m\u001b[43mbias\u001b[49m\u001b[43m,\u001b[49m\u001b[43m \u001b[49m\u001b[43meps\u001b[49m\u001b[43m,\u001b[49m\u001b[43m \u001b[49m\u001b[43mtorch\u001b[49m\u001b[43m.\u001b[49m\u001b[43mbackends\u001b[49m\u001b[43m.\u001b[49m\u001b[43mcudnn\u001b[49m\u001b[43m.\u001b[49m\u001b[43menabled\u001b[49m\n\u001b[32m   2967\u001b[39m \u001b[43m\u001b[49m\u001b[43m)\u001b[49m\n",
      "\u001b[31mKeyboardInterrupt\u001b[39m: "
     ]
    }
   ],
   "source": [
    "#Generate 100 images\n",
    "timesteps = 400\n",
    "eps = 1e-3\n",
    "\n",
    "vesde_sampler = VESDESampler(device=device, img_ch=IMG_CH, img_size=IMG_SIZE)\n",
    "sample_timesteps = torch.linspace(eps, 1.0, timesteps, device=device)\n",
    "\n",
    "imgs_vesde = sample_images(\n",
    "    model=model,\n",
    "    sampler=vesde_sampler,\n",
    "    timesteps=sample_timesteps,\n",
    "    device=device,\n",
    "    sample_size=100,\n",
    "    plot=False,\n",
    "    save=False,\n",
    ")\n",
    "\n",
    "print(f\"Generated {len(imgs_vesde)} images using VESDESampler.\")\n",
    "calculate_class_proportions(imgs_vesde, classifier, n_classes=N_CLASSES, device=device)\n"
   ]
  },
  {
   "cell_type": "code",
   "execution_count": null,
   "id": "3729fda8",
   "metadata": {},
   "outputs": [
    {
     "name": "stderr",
     "output_type": "stream",
     "text": [
      "\t Sampling images: 100%|██████████| 100/100 [03:29<00:00,  2.09s/it]"
     ]
    },
    {
     "name": "stdout",
     "output_type": "stream",
     "text": [
      "\n",
      "Generated 100 images using PDLMCSampler.\n",
      "0: 0.32  1: 0.00  2: 0.00  3: 0.00  4: 0.00  5: 0.00  6: 0.00  7: 0.00  8: 0.00  9: 0.68  "
     ]
    },
    {
     "name": "stderr",
     "output_type": "stream",
     "text": [
      "\n"
     ]
    }
   ],
   "source": [
    "gfuncs = [\n",
    "    partial(classifier_constraint, classifier=classifier, target_class=9, epsilon=0.01)\n",
    "]\n",
    "lmc_steps: int = 1\n",
    "step_size: float = 2\n",
    "step_size_lambda: float = 0.75\n",
    "timesteps = 500\n",
    "sample_timesteps = torch.linspace(eps, 1.0, timesteps, device=device)\n",
    "\n",
    "pdlmc_sampler = PDLMCVESampler(\n",
    "    device=device,\n",
    "    img_ch=IMG_CH,\n",
    "    img_size=IMG_SIZE,\n",
    "    gfuncs=gfuncs,\n",
    "    lmc_steps=lmc_steps,\n",
    "    step_size=step_size,\n",
    "    step_size_lambda=step_size_lambda,\n",
    ")\n",
    "\n",
    "imgs_pdlmc = img = sample_images(\n",
    "    model=model,\n",
    "    sampler=pdlmc_sampler,\n",
    "    timesteps=sample_timesteps,\n",
    "    device=device,\n",
    "    sample_size=100,\n",
    "    plot=False,\n",
    "    save=False,\n",
    ")\n",
    "print(f\"\\nGenerated {len(imgs_pdlmc)} images using PDLMCSampler.\")\n",
    "calculate_class_proportions(imgs_pdlmc, classifier, n_classes=N_CLASSES, device=device)"
   ]
  },
  {
   "cell_type": "markdown",
   "id": "a6ee8331",
   "metadata": {},
   "source": [
    "# Brightness"
   ]
  },
  {
   "cell_type": "code",
   "execution_count": 53,
   "id": "40de9a70",
   "metadata": {},
   "outputs": [
    {
     "name": "stderr",
     "output_type": "stream",
     "text": [
      "\t Sampling images: 100%|██████████| 1/1 [00:11<00:00, 11.09s/it]\n"
     ]
    },
    {
     "data": {
      "image/png": "[encoded data removed]",
      "text/plain": [
       "<Figure size 400x400 with 1 Axes>"
      ]
     },
     "metadata": {},
     "output_type": "display_data"
    },
    {
     "name": "stdout",
     "output_type": "stream",
     "text": [
      "\n",
      "Generated 1 images using PDLMCSampler.\n"
     ]
    },
    {
     "data": {
      "text/plain": [
       "0.07076753675937653"
      ]
     },
     "execution_count": 53,
     "metadata": {},
     "output_type": "execute_result"
    }
   ],
   "source": [
    "gfuncs = [\n",
    "    partial(brightness_constraint, target=0.3, tol=0.005)\n",
    "]\n",
    "\n",
    "lmc_steps: int = 1\n",
    "update_steps: int = 5\n",
    "step_size: float = 5\n",
    "step_size_lambda: float = 5\n",
    "timesteps = 500\n",
    "\n",
    "sample_timesteps = torch.linspace(eps, 1.0, timesteps, device=device)\n",
    "\n",
    "pdlmc_sampler = PDLMCVESampler(\n",
    "    device=device,\n",
    "    img_ch=IMG_CH,\n",
    "    img_size=IMG_SIZE,\n",
    "    gfuncs=gfuncs,\n",
    "    lmc_steps=lmc_steps,\n",
    "    step_size=step_size,\n",
    "    step_size_lambda=step_size_lambda,\n",
    ")\n",
    "\n",
    "imgs_pdlmc = img = sample_images(\n",
    "    model=model,\n",
    "    sampler=pdlmc_sampler,\n",
    "    timesteps=sample_timesteps,\n",
    "    device=device,\n",
    "    sample_size=1,\n",
    "    plot=True,\n",
    "    save=False,\n",
    "    update_steps=update_steps\n",
    ")\n",
    "\n",
    "print(f\"\\nGenerated {len(imgs_pdlmc)} images using PDLMCSampler.\")\n",
    "calculate_mean_brightness(imgs_pdlmc)"
   ]
  },
  {
   "cell_type": "markdown",
   "id": "3561f1c3",
   "metadata": {},
   "source": [
    "# Centering"
   ]
  },
  {
   "cell_type": "code",
   "execution_count": 50,
   "id": "08f330eb",
   "metadata": {},
   "outputs": [
    {
     "name": "stderr",
     "output_type": "stream",
     "text": [
      "\t Sampling images: 100%|██████████| 1/1 [00:08<00:00,  8.32s/it]\n"
     ]
    },
    {
     "data": {
      "image/png": "[encoded data removed]",
      "text/plain": [
       "<Figure size 400x400 with 1 Axes>"
      ]
     },
     "metadata": {},
     "output_type": "display_data"
    },
    {
     "name": "stdout",
     "output_type": "stream",
     "text": [
      "\n",
      "Generated 1 images using PDLMCSampler.\n"
     ]
    }
   ],
   "source": [
    "gfuncs = [\n",
    "    partial(center_constraint, center=(6, 20))\n",
    "]\n",
    "\n",
    "lmc_steps: int = 1\n",
    "update_steps: int = 3\n",
    "step_size: float = 1\n",
    "step_size_lambda: float = 0.5\n",
    "timesteps = 500\n",
    "\n",
    "sample_timesteps = torch.linspace(eps, 1.0, timesteps, device=device)\n",
    "\n",
    "pdlmc_sampler = PDLMCVESampler(\n",
    "    device=device,\n",
    "    img_ch=IMG_CH,\n",
    "    img_size=IMG_SIZE,\n",
    "    gfuncs=gfuncs,\n",
    "    lmc_steps=lmc_steps,\n",
    "    step_size=step_size,\n",
    "    step_size_lambda=step_size_lambda,\n",
    ")\n",
    "\n",
    "imgs_pdlmc = img = sample_images(\n",
    "    model=model,\n",
    "    sampler=pdlmc_sampler,\n",
    "    timesteps=sample_timesteps,\n",
    "    device=device,\n",
    "    sample_size=1,\n",
    "    plot=True,\n",
    "    save=False,\n",
    "    update_steps=update_steps\n",
    ")\n",
    "\n",
    "print(f\"\\nGenerated {len(imgs_pdlmc)} images using PDLMCSampler.\")"
   ]
  }
 ],
 "metadata": {
  "kernelspec": {
   "display_name": "Python 3",
   "language": "python",
   "name": "python3"
  },
  "language_info": {
   "codemirror_mode": {
    "name": "ipython",
    "version": 3
   },
   "file_extension": ".py",
   "mimetype": "text/x-python",
   "name": "python",
   "nbconvert_exporter": "python",
   "pygments_lexer": "ipython3",
   "version": "3.12.11"
  }
 },
 "nbformat": 4,
 "nbformat_minor": 5
}
