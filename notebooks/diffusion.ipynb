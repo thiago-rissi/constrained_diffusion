{
 "cells": [
  {
   "cell_type": "code",
   "execution_count": 1,
   "id": "21d13d2e",
   "metadata": {},
   "outputs": [
    {
     "name": "stderr",
     "output_type": "stream",
     "text": [
      "/usr/local/lib/python3.12/site-packages/tqdm/auto.py:21: TqdmWarning: IProgress not found. Please update jupyter and ipywidgets. See https://ipywidgets.readthedocs.io/en/stable/user_install.html\n",
      "  from .autonotebook import tqdm as notebook_tqdm\n"
     ]
    }
   ],
   "source": [
    "import os\n",
    "import sys\n",
    "sys.path.append('/usr/src/code/src')\n",
    "os.chdir('/usr/src/code/')\n",
    "\n",
    "import torch\n",
    "\n",
    "from torch.optim import Adam\n",
    "\n",
    "from functools import partial\n",
    "# Visualization tools\n",
    "import matplotlib.pyplot as plt\n",
    "\n",
    "from src.models.UNet import UNet, UNet2DWrapper\n",
    "from src.utils.other_utils import *\n",
    "from src.pdlmc.constraints import classifier_constraint, brightness_constraint\n",
    "from src.utils.samplers import *\n",
    "from src.utils.trainers import *\n",
    "from src.utils.schedulers import *\n",
    "\n",
    "\n",
    "device = torch.device(\"cuda\" if torch.cuda.is_available() else \"cpu\")\n",
    "%matplotlib inline"
   ]
  },
  {
   "cell_type": "code",
   "execution_count": 2,
   "id": "b84b9001",
   "metadata": {},
   "outputs": [],
   "source": [
    "IMG_SIZE = 28\n",
    "IMG_CH = 1\n",
    "BATCH_SIZE = 128\n",
    "N_CLASSES = 10\n",
    "data, dataloader = load_transformed_MNIST(IMG_SIZE, BATCH_SIZE)\n",
    "ncols = 5\n",
    "timesteps = 500\n",
    "scheduler = CosineScheduler(timesteps=timesteps, device=device)"
   ]
  },
  {
   "cell_type": "code",
   "execution_count": null,
   "id": "95e091b7",
   "metadata": {},
   "outputs": [],
   "source": [
    "model = UNet(\n",
    "    timesteps, IMG_CH, IMG_SIZE, down_chs=(64, 64, 128), t_embed_dim=8, c_embed_dim=0\n",
    ")\n",
    "# model = UNet.UNet2DWrapper()\n",
    "print(\"Num params: \", sum(p.numel() for p in model.parameters()))\n",
    "model.to(device)\n",
    "\n",
    "trainer = DDPMTrainer(scheduler=scheduler, device=device, train_timesteps=scheduler.t, sample_timesteps=scheduler.t)\n",
    "ddpm_sampler = DDPMSampler(\n",
    "    scheduler=scheduler, device=device, img_ch=IMG_CH, img_size=IMG_SIZE,\n",
    ")"
   ]
  },
  {
   "cell_type": "code",
   "execution_count": null,
   "id": "215feb46",
   "metadata": {},
   "outputs": [],
   "source": [
    "num_epochs = 4\n",
    "losses, model = trainer.train(\n",
    "    model=model,\n",
    "    dataloader=dataloader,\n",
    "    num_epochs=num_epochs,\n",
    "    sampler=ddpm_sampler,\n",
    "    plot=True,\n",
    ")\n",
    "torch.save(model, \"model.pkl\")"
   ]
  },
  {
   "cell_type": "code",
   "execution_count": 3,
   "id": "eff5fe84",
   "metadata": {},
   "outputs": [],
   "source": [
    "model = torch.load('model.pkl', weights_only=False)\n",
    "classifier = torch.load('mnist_classifier.pkl',  weights_only=False)"
   ]
  },
  {
   "cell_type": "code",
   "execution_count": 4,
   "id": "bf218257",
   "metadata": {},
   "outputs": [
    {
     "name": "stderr",
     "output_type": "stream",
     "text": [
      "\t Sampling images: 100%|██████████| 1/1 [00:02<00:00,  2.09s/it]\n"
     ]
    },
    {
     "data": {
      "image/png": "[encoded data removed]",
      "text/plain": [
       "<Figure size 500x500 with 1 Axes>"
      ]
     },
     "metadata": {},
     "output_type": "display_data"
    }
   ],
   "source": [
    "import numpy as np\n",
    "\n",
    "vpsde_sampler = VPSDESampler(\n",
    "    scheduler=scheduler, device=device, img_ch=IMG_CH, img_size=IMG_SIZE\n",
    ")\n",
    "\n",
    "img = sample_images(model=model, img_ch=IMG_CH, img_size=IMG_SIZE, reverse=vpsde_sampler.reverse, timesteps=scheduler.t, device=device, sample_size=1, plot=True, save=False)\n",
    "\n",
    "# Generate 100 images\n",
    "# imgs_vpsde = [vpsde_sampler.sample_images(model=model) for _ in range(100)]\n",
    "# print(f\"Generated {len(imgs_vpsde)} images using VPSDESampler.\")\n",
    "# calculate_class_proportions(imgs_vpsde, classifier, n_classes=N_CLASSES, device=device)\n",
    "\n",
    "# gfuncs = [partial(classifier_constraint, classifier=classifier, target_class=9, epsilon=0.01)]\n",
    "# lmc_steps: int = 1\n",
    "# step_size: float = 1.8\n",
    "# step_size_lambda: float = 0.4\n",
    "\n",
    "# pdlmc_sampler = PDLMCSampler(\n",
    "#     scheduler=scheduler,\n",
    "#     device=device,\n",
    "#     img_ch=IMG_CH,\n",
    "#     img_size=IMG_SIZE,\n",
    "#     ncols=ncols,\n",
    "#     gfuncs=gfuncs,\n",
    "#     lmc_steps=lmc_steps,\n",
    "#     step_size=step_size,\n",
    "#     step_size_lambda=step_size_lambda,\n",
    "# )\n",
    "\n",
    "# imgs_pdlmc = [pdlmc_sampler.sample_images(model=model) for _ in range(100)]\n",
    "# print(f\"Generated {len(imgs_pdlmc)} images using PDLMCSampler.\")\n",
    "# calculate_class_proportions(imgs_pdlmc, classifier, n_classes=N_CLASSES, device=device)\n",
    "# img = torch.clamp(img, 0, 1)\n",
    "# img = img.view(img.size(0), -1)\n",
    "# mean_brightness = img.mean()\n",
    "\n",
    "# print(f\"Mean brightness of the generated image: {mean_brightness.item():.4f}\")"
   ]
  },
  {
   "cell_type": "code",
   "execution_count": null,
   "id": "74329636",
   "metadata": {},
   "outputs": [],
   "source": [
    "gfuncs = [partial(classifier_constraint, classifier=classifier, target_class=9, epsilon=0.01)]\n",
    "lmc_steps: int = 1\n",
    "step_size: float = 1.8\n",
    "step_size_lambda: float = 0.4\n",
    "\n",
    "pdlmc_sampler = PDLMCSampler(\n",
    "    scheduler=scheduler,\n",
    "    device=device,\n",
    "    img_ch=IMG_CH,\n",
    "    img_size=IMG_SIZE,\n",
    "    ncols=ncols,\n",
    "    gfuncs=gfuncs,\n",
    "    lmc_steps=lmc_steps,\n",
    "    step_size=step_size,\n",
    "    step_size_lambda=step_size_lambda,\n",
    ")\n",
    "\n",
    "img = pdlmc_sampler.sample_images(model=model)\n",
    "# img = torch.clamp(img, 0, 1)\n",
    "# img = img.view(img.size(0), -1)\n",
    "# mean_brightness = img.mean()\n",
    "\n",
    "# print(f\"Mean brightness of the generated image: {mean_brightness.item():.4f}\")"
   ]
  }
 ],
 "metadata": {
  "kernelspec": {
   "display_name": "Python 3",
   "language": "python",
   "name": "python3"
  },
  "language_info": {
   "codemirror_mode": {
    "name": "ipython",
    "version": 3
   },
   "file_extension": ".py",
   "mimetype": "text/x-python",
   "name": "python",
   "nbconvert_exporter": "python",
   "pygments_lexer": "ipython3",
   "version": "3.12.11"
  }
 },
 "nbformat": 4,
 "nbformat_minor": 5
}
