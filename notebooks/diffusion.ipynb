{
 "cells": [
  {
   "cell_type": "code",
   "execution_count": 1,
   "id": "21d13d2e",
   "metadata": {},
   "outputs": [
    {
     "name": "stderr",
     "output_type": "stream",
     "text": [
      "/usr/local/lib/python3.12/site-packages/tqdm/auto.py:21: TqdmWarning: IProgress not found. Please update jupyter and ipywidgets. See https://ipywidgets.readthedocs.io/en/stable/user_install.html\n",
      "  from .autonotebook import tqdm as notebook_tqdm\n"
     ]
    }
   ],
   "source": [
    "import os\n",
    "import sys\n",
    "sys.path.append('/usr/src/code/src')\n",
    "os.chdir('/usr/src/code/')\n",
    "\n",
    "import torch\n",
    "\n",
    "from src.models.UNet import UNet, UNet2DWrapper, UNet_res, UNet_Tranformer\n",
    "from src.utils.other_utils import *\n",
    "from src.pdlmc.constraints import classifier_constraint, brightness_constraint, center_constraint\n",
    "from src.utils.samplers import *\n",
    "from src.utils.trainers import *\n",
    "from src.utils.schedulers import *\n",
    "\n",
    "\n",
    "device = torch.device(\"cuda\" if torch.cuda.is_available() else \"cpu\")\n",
    "%matplotlib inline"
   ]
  },
  {
   "cell_type": "code",
   "execution_count": 48,
   "id": "eff5fe84",
   "metadata": {},
   "outputs": [],
   "source": [
    "IMG_SIZE = 28\n",
    "IMG_CH = 1\n",
    "BATCH_SIZE = 128\n",
    "N_CLASSES = 10\n",
    "timesteps = 250\n",
    "sigma = 25.0\n",
    "eps = 1e-3\n",
    "\n",
    "model = UNet_res(partial(marginal_prob_std, sigma=sigma, device=device))\n",
    "model.load_state_dict(torch.load(\"unet_residual.pth\"))\n",
    "model = model.to(device)\n",
    "classifier = torch.load(\"mnist_classifier.pkl\", weights_only=False)"
   ]
  },
  {
   "cell_type": "markdown",
   "id": "00075ba0",
   "metadata": {},
   "source": [
    "# Classifier"
   ]
  },
  {
   "cell_type": "code",
   "execution_count": 54,
   "id": "bf218257",
   "metadata": {},
   "outputs": [
    {
     "name": "stderr",
     "output_type": "stream",
     "text": [
      "\t Sampling images: 100%|██████████| 1/1 [00:01<00:00,  1.02s/it]\n"
     ]
    },
    {
     "data": {
      "image/png": "[encoded data removed]",
      "text/plain": [
       "<Figure size 640x480 with 1 Axes>"
      ]
     },
     "metadata": {},
     "output_type": "display_data"
    },
    {
     "data": {
      "text/plain": [
       "<Figure size 400x400 with 0 Axes>"
      ]
     },
     "metadata": {},
     "output_type": "display_data"
    }
   ],
   "source": [
    "timesteps = 500\n",
    "eps = 1e-3\n",
    "\n",
    "vesde_sampler = VESDESampler(device=device, img_ch=IMG_CH, img_size=IMG_SIZE)\n",
    "sample_timesteps = torch.linspace(eps, 1.0, timesteps, device=device)\n",
    "img = sample_images(\n",
    "    model=model,\n",
    "    img_ch=IMG_CH,\n",
    "    img_size=IMG_SIZE,\n",
    "    reverse=vesde_sampler.reverse,\n",
    "    timesteps=sample_timesteps,\n",
    "    device=device,\n",
    "    sample_size=1,\n",
    "    plot=True,\n",
    "    save=False,\n",
    ")"
   ]
  },
  {
   "cell_type": "code",
   "execution_count": null,
   "id": "74329636",
   "metadata": {},
   "outputs": [
    {
     "name": "stderr",
     "output_type": "stream",
     "text": [
      "\t Sampling images:   0%|          | 0/1 [00:00<?, ?it/s]"
     ]
    }
   ],
   "source": [
    "gfuncs = [\n",
    "    partial(classifier_constraint, classifier=classifier, target_class=3, epsilon=0.01)\n",
    "]\n",
    "lmc_steps: int = 5\n",
    "step_size: float = 1\n",
    "step_size_lambda: float = 0.25\n",
    "timesteps = 800\n",
    "pdlmc_sampler = PDLMCVESampler(\n",
    "    device=device,\n",
    "    img_ch=IMG_CH,\n",
    "    img_size=IMG_SIZE,\n",
    "    gfuncs=gfuncs,\n",
    "    lmc_steps=lmc_steps,\n",
    "    step_size=step_size,\n",
    "    step_size_lambda=step_size_lambda,\n",
    ")\n",
    "\n",
    "sample_timesteps = torch.linspace(eps, 1.0, timesteps, device=device)\n",
    "img = sample_images(\n",
    "    model=model,\n",
    "    img_ch=IMG_CH,\n",
    "    img_size=IMG_SIZE,\n",
    "    reverse=pdlmc_sampler.reverse,\n",
    "    timesteps=sample_timesteps,\n",
    "    device=device,\n",
    "    sample_size=1,\n",
    "    plot=True,\n",
    "    save=False,\n",
    ")"
   ]
  },
  {
   "cell_type": "code",
   "execution_count": null,
   "id": "719bdbdf",
   "metadata": {},
   "outputs": [
    {
     "name": "stderr",
     "output_type": "stream",
     "text": [
      "\t Sampling images: 100%|██████████| 100/100 [01:19<00:00,  1.26it/s]\n"
     ]
    },
    {
     "name": "stdout",
     "output_type": "stream",
     "text": [
      "Generated 100 images using VESDESampler.\n",
      "0: 0.11  1: 0.16  2: 0.10  3: 0.11  4: 0.10  5: 0.09  6: 0.07  7: 0.10  8: 0.08  9: 0.08  "
     ]
    },
    {
     "name": "stderr",
     "output_type": "stream",
     "text": [
      "\t Sampling images: 100%|██████████| 100/100 [02:49<00:00,  1.69s/it]"
     ]
    },
    {
     "name": "stdout",
     "output_type": "stream",
     "text": [
      "\n",
      "Generated 100 images using PDLMCSampler.\n",
      "0: 0.40  1: 0.00  2: 0.00  3: 0.00  4: 0.00  5: 0.00  6: 0.00  7: 0.00  8: 0.00  9: 0.60  "
     ]
    },
    {
     "name": "stderr",
     "output_type": "stream",
     "text": [
      "\n"
     ]
    }
   ],
   "source": [
    "#Generate 100 images\n",
    "timesteps = 400\n",
    "eps = 1e-3\n",
    "\n",
    "vesde_sampler = VESDESampler(device=device, img_ch=IMG_CH, img_size=IMG_SIZE)\n",
    "sample_timesteps = torch.linspace(eps, 1.0, timesteps, device=device)\n",
    "\n",
    "imgs_vesde = sample_images(\n",
    "    model=model,\n",
    "    img_ch=IMG_CH,\n",
    "    img_size=IMG_SIZE,\n",
    "    reverse=vesde_sampler.reverse,\n",
    "    timesteps=sample_timesteps,\n",
    "    device=device,\n",
    "    sample_size=100,\n",
    "    plot=False,\n",
    "    save=False,\n",
    ")\n",
    "\n",
    "print(f\"Generated {len(imgs_vesde)} images using VESDESampler.\")\n",
    "calculate_class_proportions(imgs_vesde, classifier, n_classes=N_CLASSES, device=device)\n"
   ]
  },
  {
   "cell_type": "code",
   "execution_count": 68,
   "id": "3729fda8",
   "metadata": {},
   "outputs": [
    {
     "name": "stderr",
     "output_type": "stream",
     "text": [
      "\t Sampling images: 100%|██████████| 100/100 [03:29<00:00,  2.09s/it]"
     ]
    },
    {
     "name": "stdout",
     "output_type": "stream",
     "text": [
      "\n",
      "Generated 100 images using PDLMCSampler.\n",
      "0: 0.32  1: 0.00  2: 0.00  3: 0.00  4: 0.00  5: 0.00  6: 0.00  7: 0.00  8: 0.00  9: 0.68  "
     ]
    },
    {
     "name": "stderr",
     "output_type": "stream",
     "text": [
      "\n"
     ]
    }
   ],
   "source": [
    "gfuncs = [\n",
    "    partial(classifier_constraint, classifier=classifier, target_class=9, epsilon=0.01)\n",
    "]\n",
    "lmc_steps: int = 1\n",
    "step_size: float = 2\n",
    "step_size_lambda: float = 0.75\n",
    "timesteps = 500\n",
    "sample_timesteps = torch.linspace(eps, 1.0, timesteps, device=device)\n",
    "\n",
    "pdlmc_sampler = PDLMCVESampler(\n",
    "    device=device,\n",
    "    img_ch=IMG_CH,\n",
    "    img_size=IMG_SIZE,\n",
    "    gfuncs=gfuncs,\n",
    "    lmc_steps=lmc_steps,\n",
    "    step_size=step_size,\n",
    "    step_size_lambda=step_size_lambda,\n",
    ")\n",
    "\n",
    "imgs_pdlmc = img = sample_images(\n",
    "    model=model,\n",
    "    img_ch=IMG_CH,\n",
    "    img_size=IMG_SIZE,\n",
    "    reverse=pdlmc_sampler.reverse,\n",
    "    timesteps=sample_timesteps,\n",
    "    device=device,\n",
    "    sample_size=100,\n",
    "    plot=False,\n",
    "    save=False,\n",
    ")\n",
    "print(f\"\\nGenerated {len(imgs_pdlmc)} images using PDLMCSampler.\")\n",
    "calculate_class_proportions(imgs_pdlmc, classifier, n_classes=N_CLASSES, device=device)"
   ]
  },
  {
   "cell_type": "markdown",
   "id": "a6ee8331",
   "metadata": {},
   "source": [
    "# Brightness"
   ]
  },
  {
   "cell_type": "code",
   "execution_count": 43,
   "id": "40de9a70",
   "metadata": {},
   "outputs": [
    {
     "name": "stderr",
     "output_type": "stream",
     "text": [
      "\t Sampling images: 100%|██████████| 1/1 [00:04<00:00,  4.65s/it]\n"
     ]
    },
    {
     "data": {
      "image/png": "[encoded data removed]",
      "text/plain": [
       "<Figure size 640x480 with 1 Axes>"
      ]
     },
     "metadata": {},
     "output_type": "display_data"
    },
    {
     "data": {
      "text/plain": [
       "<Figure size 400x400 with 0 Axes>"
      ]
     },
     "metadata": {},
     "output_type": "display_data"
    },
    {
     "name": "stdout",
     "output_type": "stream",
     "text": [
      "\n",
      "Generated 1 images using PDLMCSampler.\n"
     ]
    },
    {
     "data": {
      "text/plain": [
       "0.02213788963854313"
      ]
     },
     "execution_count": 43,
     "metadata": {},
     "output_type": "execute_result"
    }
   ],
   "source": [
    "gfuncs = [\n",
    "    partial(brightness_constraint, target=0.1, tol=0.005)\n",
    "]\n",
    "lmc_steps: int = 5\n",
    "step_size: float = 10\n",
    "step_size_lambda: float = 5\n",
    "timesteps = 500\n",
    "sample_timesteps = torch.linspace(eps, 1.0, timesteps, device=device)\n",
    "\n",
    "pdlmc_sampler = PDLMCVESampler(\n",
    "    device=device,\n",
    "    img_ch=IMG_CH,\n",
    "    img_size=IMG_SIZE,\n",
    "    gfuncs=gfuncs,\n",
    "    lmc_steps=lmc_steps,\n",
    "    step_size=step_size,\n",
    "    step_size_lambda=step_size_lambda,\n",
    ")\n",
    "\n",
    "imgs_pdlmc = img = sample_images(\n",
    "    model=model,\n",
    "    img_ch=IMG_CH,\n",
    "    img_size=IMG_SIZE,\n",
    "    reverse=pdlmc_sampler.reverse,\n",
    "    timesteps=sample_timesteps,\n",
    "    device=device,\n",
    "    sample_size=1,\n",
    "    plot=True,\n",
    "    save=False,\n",
    ")\n",
    "\n",
    "print(f\"\\nGenerated {len(imgs_pdlmc)} images using PDLMCSampler.\")\n",
    "calculate_mean_brightness(imgs_pdlmc)"
   ]
  },
  {
   "cell_type": "markdown",
   "id": "3561f1c3",
   "metadata": {},
   "source": [
    "# Centering"
   ]
  },
  {
   "cell_type": "code",
   "execution_count": 45,
   "id": "08f330eb",
   "metadata": {},
   "outputs": [
    {
     "name": "stderr",
     "output_type": "stream",
     "text": [
      "\t Sampling images: 100%|██████████| 1/1 [00:06<00:00,  6.78s/it]\n"
     ]
    },
    {
     "data": {
      "image/png": "[encoded data removed]",
      "text/plain": [
       "<Figure size 640x480 with 1 Axes>"
      ]
     },
     "metadata": {},
     "output_type": "display_data"
    },
    {
     "data": {
      "text/plain": [
       "<Figure size 400x400 with 0 Axes>"
      ]
     },
     "metadata": {},
     "output_type": "display_data"
    },
    {
     "name": "stdout",
     "output_type": "stream",
     "text": [
      "\n",
      "Generated 1 images using PDLMCSampler.\n"
     ]
    }
   ],
   "source": [
    "gfuncs = [\n",
    "    partial(center_constraint, center=(6, 20))\n",
    "]\n",
    "lmc_steps: int = 5\n",
    "step_size: float = 0.75\n",
    "step_size_lambda: float = 0.25\n",
    "timesteps = 500\n",
    "sample_timesteps = torch.linspace(eps, 1.0, timesteps, device=device)\n",
    "\n",
    "pdlmc_sampler = PDLMCVESampler(\n",
    "    device=device,\n",
    "    img_ch=IMG_CH,\n",
    "    img_size=IMG_SIZE,\n",
    "    gfuncs=gfuncs,\n",
    "    lmc_steps=lmc_steps,\n",
    "    step_size=step_size,\n",
    "    step_size_lambda=step_size_lambda,\n",
    ")\n",
    "\n",
    "imgs_pdlmc = img = sample_images(\n",
    "    model=model,\n",
    "    img_ch=IMG_CH,\n",
    "    img_size=IMG_SIZE,\n",
    "    reverse=pdlmc_sampler.reverse,\n",
    "    timesteps=sample_timesteps,\n",
    "    device=device,\n",
    "    sample_size=1,\n",
    "    plot=True,\n",
    "    save=False,\n",
    ")\n",
    "\n",
    "print(f\"\\nGenerated {len(imgs_pdlmc)} images using PDLMCSampler.\")"
   ]
  }
 ],
 "metadata": {
  "kernelspec": {
   "display_name": "Python 3",
   "language": "python",
   "name": "python3"
  },
  "language_info": {
   "codemirror_mode": {
    "name": "ipython",
    "version": 3
   },
   "file_extension": ".py",
   "mimetype": "text/x-python",
   "name": "python",
   "nbconvert_exporter": "python",
   "pygments_lexer": "ipython3",
   "version": "3.12.11"
  }
 },
 "nbformat": 4,
 "nbformat_minor": 5
}
